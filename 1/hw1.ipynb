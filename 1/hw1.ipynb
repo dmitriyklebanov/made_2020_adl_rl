{
 "cells": [
  {
   "cell_type": "markdown",
   "metadata": {},
   "source": [
    "# Advanced Deep Learning and Reinforcement Learning. Домашнее задание 1"
   ]
  },
  {
   "cell_type": "markdown",
   "metadata": {},
   "source": [
    "## Часть первая, с блекджеком и стратегиями\n",
    "\n",
    "Мы будем обучаться играть в очень простую, но всё-таки знаменитую и популярную игру:\n",
    "блекджек. Правила блекджека достаточно просты; давайте начнём с самой базовой\n",
    "версии, которая реализована в OpenAI Gym:\n",
    "* численные значения карт равны от 2 до 10 для карт от двойки до десятки, 10 для\n",
    "валетов, дам и королей;\n",
    "* туз считается за 11 очков, если общая сумма карт на руке при этом не превосходит\n",
    "21 (по-английски в этом случае говорят, что на руке есть usable ace), и за 1 очко,\n",
    "если превосходит;\n",
    "* игроку раздаются две карты, дилеру — одна в открытую и одна в закрытую;\n",
    "* игрок может совершать одно из двух действий:\n",
    "  * hit — взять ещё одну карту;\n",
    "  * stand — не брать больше карт;\n",
    "* если сумма очков у игрока на руках больше 21, он проигрывает (bust);\n",
    "* если игрок выбирает stand с суммой не больше 21, дилер добирает карты, пока\n",
    "сумма карт в его руке меньше 17;\n",
    "* после этого игрок выигрывает, если дилер либо превышает 21, либо получает\n",
    "сумму очков меньше, чем сумма очков у игрока; при равенстве очков объявляется\n",
    "ничья (ставка возвращается);\n",
    "* в исходных правилах есть ещё дополнительный бонус за natural blackjack: если\n",
    "игрок набирает 21 очко с раздачи, двумя картами, он выигрывает не +1, а +1.5\n",
    "(полторы ставки).\n"
   ]
  },
  {
   "cell_type": "markdown",
   "metadata": {},
   "source": [
    "Именно этот простейший вариант блекджека реализован в OpenAI Gym:\n",
    "https://github.com/openai/gym/blob/38a1f630dc9815a567aaf299ae5844c8f8b9a6fa/gym/envs/toy_text/blackjack.py"
   ]
  },
  {
   "cell_type": "code",
   "execution_count": 1,
   "metadata": {},
   "outputs": [],
   "source": [
    "import gym\n",
    "env = gym.make('Blackjack-v0', natural=True)"
   ]
  },
  {
   "cell_type": "markdown",
   "metadata": {},
   "source": [
    "### Задание 1"
   ]
  },
  {
   "cell_type": "markdown",
   "metadata": {},
   "source": [
    "Рассмотрим очень простую стратегию: говорить stand, если у нас на руках\n",
    "комбинация в 19, 20 или 21 очко, во всех остальных случаях говорить hit.\n",
    "Используйте методы Монте-Карло, чтобы оценить выигрыш от этой стратегии."
   ]
  },
  {
   "cell_type": "code",
   "execution_count": 2,
   "metadata": {},
   "outputs": [],
   "source": [
    "class SimpleStrategy:\n",
    "    def __call__(self, state, exploration):\n",
    "        return state[0] < 19\n",
    "    \n",
    "    def update(self, state, new_state, action, reward):\n",
    "        pass"
   ]
  },
  {
   "cell_type": "code",
   "execution_count": 3,
   "metadata": {},
   "outputs": [],
   "source": [
    "from matplotlib import pyplot as plt\n",
    "\n",
    "import numpy as np\n",
    "import sys\n",
    "\n",
    "\n",
    "class Pipeline:\n",
    "    def evaluation_status(self, i, n):\n",
    "        if (i + 1) % (n / 10) == 0:\n",
    "            print(\"Calculation status: {} %.\".format((i + 1) * 100 / n))\n",
    "            sys.stdout.flush()\n",
    "    \n",
    "    def save_rewards(self, i, n):\n",
    "        if (i + 1) % (n / 100) == 0:\n",
    "            self.__training_rewards[i] = self.evaluate_reward(show_status=False)\n",
    "            \n",
    "    def plot_rewards(self):\n",
    "        plt.plot(\n",
    "            self.__training_rewards.keys(),\n",
    "            self.__training_rewards.values(),\n",
    "            label=type(self.strategy).__name__,\n",
    "        )\n",
    "        plt.xlabel('Episode')\n",
    "        plt.ylabel('Average reward')\n",
    "        plt.legend()\n",
    "        plt.show()\n",
    "    \n",
    "    def __init__(self, env, strategy, seed=None):\n",
    "        self.env = env\n",
    "        self.strategy = strategy\n",
    "        self.seed = seed or 42\n",
    "        self.__training_rewards = {}\n",
    "        \n",
    "    def run_episode(self, learning=True):\n",
    "        state = self.env.reset()\n",
    "        states, actions, rewards = [state], [], [0]\n",
    "        done = False\n",
    "        while not done:\n",
    "            action = self.strategy(state, learning)\n",
    "            new_state, reward, done, info = self.env.step(action)\n",
    "            if learning:\n",
    "                self.strategy.update(state, new_state, action, reward)\n",
    "            state = new_state\n",
    "            states.append(state)\n",
    "            actions.append(action)\n",
    "            rewards.append(reward)\n",
    "        return states, actions, rewards\n",
    "    \n",
    "    def reset(self):\n",
    "        self.env.seed(self.seed)\n",
    "        self.__training_rewards = {}\n",
    "    \n",
    "    def fit(self, show_status=True, save_rewards=True, total_episodes=200000):\n",
    "        self.reset()\n",
    "        for i in range(total_episodes):\n",
    "            if show_status:\n",
    "                self.evaluation_status(i, total_episodes)\n",
    "            states, actions, rewards = self.run_episode(learning=True)\n",
    "            if save_rewards:\n",
    "                self.save_rewards(i, total_episodes) \n",
    "            \n",
    "    def evaluate_reward(self, show_status=True, total_episodes=200000):\n",
    "        total_reward = 0\n",
    "        for i in range(total_episodes):\n",
    "            if show_status:\n",
    "                self.evaluation_status(i, total_episodes)\n",
    "            _, _, rewards = self.run_episode(learning=False)\n",
    "            total_reward += rewards[-1]\n",
    "        return total_reward / total_episodes"
   ]
  },
  {
   "cell_type": "code",
   "execution_count": 4,
   "metadata": {},
   "outputs": [
    {
     "name": "stdout",
     "output_type": "stream",
     "text": [
      "Calculation status: 10.0 %.\n",
      "Calculation status: 20.0 %.\n",
      "Calculation status: 30.0 %.\n",
      "Calculation status: 40.0 %.\n",
      "Calculation status: 50.0 %.\n",
      "Calculation status: 60.0 %.\n",
      "Calculation status: 70.0 %.\n",
      "Calculation status: 80.0 %.\n",
      "Calculation status: 90.0 %.\n",
      "Calculation status: 100.0 %.\n"
     ]
    },
    {
     "data": {
      "text/plain": [
       "-0.17831"
      ]
     },
     "execution_count": 4,
     "metadata": {},
     "output_type": "execute_result"
    }
   ],
   "source": [
    "pipeline = Pipeline(env, SimpleStrategy())\n",
    "pipeline.evaluate_reward()"
   ]
  },
  {
   "cell_type": "code",
   "execution_count": 5,
   "metadata": {},
   "outputs": [],
   "source": [
    "from collections import defaultdict\n",
    "\n",
    "\n",
    "def first_visit_monte_carlo(pipeline, gamma=0.9, total_episodes=100000):\n",
    "    ns = defaultdict(int)\n",
    "    values = defaultdict(float)\n",
    "    for i in range(total_episodes):\n",
    "        pipeline.evaluation_status(i, total_episodes)\n",
    "        states, _, rewards = pipeline.run_episode(learning=False)\n",
    "        g = 0.0\n",
    "        for t in range(len(states) - 1, -1, -1):\n",
    "            r = rewards[t]\n",
    "            g = gamma * g + r\n",
    "            s = states[t]\n",
    "            ns[s] += 1\n",
    "            if s not in states[:t]:\n",
    "                values[s] += (g - values[s]) / ns[s]\n",
    "    return values"
   ]
  },
  {
   "cell_type": "code",
   "execution_count": 6,
   "metadata": {},
   "outputs": [
    {
     "name": "stdout",
     "output_type": "stream",
     "text": [
      "Calculation status: 10.0 %.\n",
      "Calculation status: 20.0 %.\n",
      "Calculation status: 30.0 %.\n",
      "Calculation status: 40.0 %.\n",
      "Calculation status: 50.0 %.\n",
      "Calculation status: 60.0 %.\n",
      "Calculation status: 70.0 %.\n",
      "Calculation status: 80.0 %.\n",
      "Calculation status: 90.0 %.\n",
      "Calculation status: 100.0 %.\n",
      "                        0\n",
      "(4, 1, False)   -0.461027\n",
      "(4, 2, False)   -0.073040\n",
      "(4, 3, False)   -0.312541\n",
      "(4, 4, False)   -0.052889\n",
      "(4, 5, False)   -0.299820\n",
      "...                   ...\n",
      "(28, 6, False)  -1.000000\n",
      "(28, 7, False)  -1.000000\n",
      "(28, 8, False)  -1.000000\n",
      "(28, 9, False)  -1.000000\n",
      "(28, 10, False) -1.000000\n",
      "\n",
      "[350 rows x 1 columns]\n"
     ]
    }
   ],
   "source": [
    "import pandas as pd\n",
    "\n",
    "\n",
    "values = first_visit_monte_carlo(pipeline)\n",
    "print(pd.DataFrame.from_dict(values, orient='index').sort_index())"
   ]
  },
  {
   "cell_type": "markdown",
   "metadata": {},
   "source": [
    "### Задание 2"
   ]
  },
  {
   "cell_type": "markdown",
   "metadata": {},
   "source": [
    "Реализуйте метод обучения с подкреплением без модели (можно Q-обучение, но\n",
    "рекомендую попробовать и другие, например Monte Carlo control) для обучения\n",
    "стратегии в блекджеке, используя окружение Blackjack-v0 из OpenAI Gym."
   ]
  },
  {
   "cell_type": "code",
   "execution_count": 7,
   "metadata": {},
   "outputs": [],
   "source": [
    "from functools import partial\n",
    "\n",
    "\n",
    "class QLearning:\n",
    "    def __init__(self, env, alpha, eps, gamma):\n",
    "        self.env = env\n",
    "        \n",
    "        self.__alpha = alpha\n",
    "        self.__eps = eps\n",
    "        self.__gamma = gamma\n",
    "        \n",
    "        self.__Q = defaultdict(partial(np.zeros, env.action_space.n, dtype=float))\n",
    "        self.__pi = defaultdict(int)\n",
    "        \n",
    "    def __call__(self, state, exploration=True):\n",
    "        if exploration and np.random.random() <= self.__eps:\n",
    "            return np.random.randint(self.env.action_space.n)\n",
    "        \n",
    "        return self.__pi[state]\n",
    "    \n",
    "    def update(self, state, new_state, action, reward):\n",
    "        self.__Q[state][action] += self.__alpha * (\n",
    "            reward\n",
    "            + self.__gamma * np.max(self.__Q[new_state])\n",
    "            - self.__Q[state][action]\n",
    "        )\n",
    "        \n",
    "        self.__pi[state] = np.argmax(self.__Q[state])"
   ]
  },
  {
   "cell_type": "markdown",
   "metadata": {},
   "source": [
    "### Задание 3"
   ]
  },
  {
   "cell_type": "markdown",
   "metadata": {},
   "source": [
    "Сколько выигрывает казино у вашей стратегии? Нарисуйте графики среднего\n",
    "дохода вашего метода (усреднённого по крайней мере по 100000 раздач, а лучше\n",
    "больше) по ходу обучения. Попробуйте подобрать оптимальные гиперпараметры."
   ]
  },
  {
   "cell_type": "code",
   "execution_count": 8,
   "metadata": {},
   "outputs": [],
   "source": [
    "def grid_search(env, strategy_cls, grid_params, episodes, show_status=True):\n",
    "    grid = np.array(np.meshgrid(*grid_params.values())).reshape(len(grid_params), -1).T\n",
    "    best_reward = -1\n",
    "    best_params = {}\n",
    "    for i, params in enumerate(grid):\n",
    "        if show_status:\n",
    "            print(f'{i}/{grid.shape[0]}')\n",
    "        params = dict(zip(grid_params.keys(), params))\n",
    "        strategy = strategy_cls(env, **params)\n",
    "        pipeline = Pipeline(env, strategy)\n",
    "        pipeline.fit(show_status=False, save_rewards=False, total_episodes=episodes)\n",
    "        reward = pipeline.evaluate_reward(show_status=False, total_episodes=episodes)\n",
    "        if reward > best_reward:\n",
    "            best_reward = reward\n",
    "            best_params = params\n",
    "    return best_reward, best_params"
   ]
  },
  {
   "cell_type": "code",
   "execution_count": 9,
   "metadata": {},
   "outputs": [],
   "source": [
    "def process_task(env_cls, strategy_cls, params, episodes=200000):\n",
    "    env = env_cls(natural=True)\n",
    "    best_reward, best_params = grid_search(env, strategy_cls, params, episodes)\n",
    "    print(best_reward, best_params)\n",
    "    strategy = strategy_cls(env, **best_params)\n",
    "    pipeline = Pipeline(env, strategy)\n",
    "    pipeline.fit(total_episodes=episodes)\n",
    "    pipeline.evaluate_reward(show_status=False, total_episodes=episodes)\n",
    "    pipeline.plot_rewards()"
   ]
  },
  {
   "cell_type": "code",
   "execution_count": 10,
   "metadata": {
    "scrolled": true
   },
   "outputs": [],
   "source": [
    "params = {\n",
    "    'alpha': np.linspace(1e-6, 1e-5, 3),\n",
    "    'eps': np.linspace(0.7, 0.9, 3), \n",
    "    'gamma': np.linspace(0.9, 1, 3),\n",
    "}"
   ]
  },
  {
   "cell_type": "code",
   "execution_count": 11,
   "metadata": {
    "scrolled": false
   },
   "outputs": [
    {
     "name": "stdout",
     "output_type": "stream",
     "text": [
      "0/27\n",
      "1/27\n",
      "2/27\n",
      "3/27\n",
      "4/27\n",
      "5/27\n",
      "6/27\n",
      "7/27\n",
      "8/27\n",
      "9/27\n",
      "10/27\n",
      "11/27\n",
      "12/27\n",
      "13/27\n",
      "14/27\n",
      "15/27\n",
      "16/27\n",
      "17/27\n",
      "18/27\n",
      "19/27\n",
      "20/27\n",
      "21/27\n",
      "22/27\n",
      "23/27\n",
      "24/27\n",
      "25/27\n",
      "26/27\n",
      "-0.02916 {'alpha': 1e-06, 'eps': 0.9, 'gamma': 1.0}\n",
      "Calculation status: 10.0 %.\n",
      "Calculation status: 20.0 %.\n",
      "Calculation status: 30.0 %.\n",
      "Calculation status: 40.0 %.\n",
      "Calculation status: 50.0 %.\n",
      "Calculation status: 60.0 %.\n",
      "Calculation status: 70.0 %.\n",
      "Calculation status: 80.0 %.\n",
      "Calculation status: 90.0 %.\n",
      "Calculation status: 100.0 %.\n"
     ]
    },
    {
     "data": {
      "image/png": "[encoded data removed]",
      "text/plain": [
       "<Figure size 432x288 with 1 Axes>"
      ]
     },
     "metadata": {
      "needs_background": "light"
     },
     "output_type": "display_data"
    }
   ],
   "source": [
    "from gym.envs.toy_text.blackjack import BlackjackEnv\n",
    "\n",
    "\n",
    "process_task(BlackjackEnv, QLearning, params)"
   ]
  },
  {
   "cell_type": "markdown",
   "metadata": {},
   "source": [
    "## Часть вторая, удвоенная\n",
    "\n",
    "В базовый блекджек, описанный в предыдущем разделе, обыграть казино вряд ли\n",
    "получится. Но, к счастью, на этом история не заканчивается. Описанные выше правила\n",
    "были упрощёнными, а на самом деле у игрока есть ещё и другие возможности.\n",
    "Реализовывать split может оказаться непросто, поэтому давайте ограничимся удвоением\n",
    "ставки. Итак, у игрока появляется дополнительное действие:\n",
    "* **double** — удвоить ставку; при этом больше действий делать нельзя, игроку\n",
    "выдаётся ровно одна дополнительная карта, а выигрыш или проигрыш\n",
    "удваивается.\n"
   ]
  },
  {
   "cell_type": "markdown",
   "metadata": {},
   "source": [
    "### Задание 4"
   ]
  },
  {
   "cell_type": "markdown",
   "metadata": {},
   "source": [
    "Реализуйте новый вариант блекджека на основе окружения Blackjack-v0 из OpenAI\n",
    "Gym, в котором разрешено удвоение ставки"
   ]
  },
  {
   "cell_type": "code",
   "execution_count": 12,
   "metadata": {},
   "outputs": [],
   "source": [
    "from gym import spaces\n",
    "\n",
    "\n",
    "class DoubleBlackjackEnv(BlackjackEnv):\n",
    "    def __init__(self, *args, **kwargs):\n",
    "        super(DoubleBlackjackEnv, self).__init__(*args, **kwargs)\n",
    "        \n",
    "        self.action_space = spaces.Discrete(3)\n",
    "        self.reset()\n",
    "        \n",
    "    def step(self, action):\n",
    "        assert self.action_space.contains(action)\n",
    "        reward = max(action, 1)\n",
    "        res = list(super(DoubleBlackjackEnv, self).step(min(action, 1)))\n",
    "        if action == 2 and not res[2]:\n",
    "            res = list(super(DoubleBlackjackEnv, self).step(0))\n",
    "        res[1] *= reward\n",
    "        return res"
   ]
  },
  {
   "cell_type": "markdown",
   "metadata": {},
   "source": [
    "### Задание 5"
   ]
  },
  {
   "cell_type": "markdown",
   "metadata": {},
   "source": [
    "Реализуйте метод обучения с подкреплением без модели для этого варианта,\n",
    "постройте графики, аналогичные п.2.\n"
   ]
  },
  {
   "cell_type": "code",
   "execution_count": 13,
   "metadata": {},
   "outputs": [
    {
     "name": "stdout",
     "output_type": "stream",
     "text": [
      "0/27\n",
      "1/27\n",
      "2/27\n",
      "3/27\n",
      "4/27\n",
      "5/27\n",
      "6/27\n",
      "7/27\n",
      "8/27\n",
      "9/27\n",
      "10/27\n",
      "11/27\n",
      "12/27\n",
      "13/27\n",
      "14/27\n",
      "15/27\n",
      "16/27\n",
      "17/27\n",
      "18/27\n",
      "19/27\n",
      "20/27\n",
      "21/27\n",
      "22/27\n",
      "23/27\n",
      "24/27\n",
      "25/27\n",
      "26/27\n",
      "-0.0172175 {'alpha': 1e-06, 'eps': 0.9, 'gamma': 0.95}\n",
      "Calculation status: 10.0 %.\n",
      "Calculation status: 20.0 %.\n",
      "Calculation status: 30.0 %.\n",
      "Calculation status: 40.0 %.\n",
      "Calculation status: 50.0 %.\n",
      "Calculation status: 60.0 %.\n",
      "Calculation status: 70.0 %.\n",
      "Calculation status: 80.0 %.\n",
      "Calculation status: 90.0 %.\n",
      "Calculation status: 100.0 %.\n"
     ]
    },
    {
     "data": {
      "image/png": "[encoded data removed]",
      "text/plain": [
       "<Figure size 432x288 with 1 Axes>"
      ]
     },
     "metadata": {
      "needs_background": "light"
     },
     "output_type": "display_data"
    }
   ],
   "source": [
    "process_task(DoubleBlackjackEnv, QLearning, params)"
   ]
  },
  {
   "cell_type": "markdown",
   "metadata": {},
   "source": [
    "## Часть третья, в главной роли — Дастин Хоффман\n",
    "А теперь давайте вспомним, как играют в блекджек настоящие профессионалы. Дело в\n",
    "том, что в оффлайн-казино обычно не перемешивают колоду после каждой раздачи — это\n",
    "слишком замедляло бы игру. После раздачи карты просто раздаются дальше с верха\n",
    "колоды до тех пор, пока карт не останется слишком мало, и только тогда колода\n",
    "перемешивается; давайте для определённости считать, что наше казино будет\n",
    "перемешивать колоду, в которой осталось меньше 15 карт.\n",
    "\n",
    "Действительно, если вы будете запоминать, какие карты уже вышли, у вас будет\n",
    "информация о том, какие карты ещё остались, а это позволяет лучше понять, когда нужно\n",
    "удваивать ставку или делать split, а когда лучше не стоит. В настоящем казино могут\n",
    "раздавать карты сразу из нескольких колод, и заслуга Rain Man’а была в том, что он смог\n",
    "считать карты в шести колодах одновременно. Но мы с вами вооружены компьютерами,\n",
    "так что подсчёт можно считать автоматическим."
   ]
  },
  {
   "cell_type": "markdown",
   "metadata": {},
   "source": [
    "### Задание 6"
   ]
  },
  {
   "cell_type": "markdown",
   "metadata": {},
   "source": [
    "Реализуйте вариант окружения Blackjack-v0 из предыдущей части (с удвоением), в\n",
    "котором игрок имеет возможность “считать карты” в колоде. Это можно сделать\n",
    "разными способами; возможно, вам поможет [статья википедии о блекджеке](https://ru.wikipedia.org/wiki/%D0%91%D0%BB%D1%8D%D0%BA%D0%B4%D0%B6%D0%B5%D0%BA) (а\n",
    "возможно, и нет)."
   ]
  },
  {
   "cell_type": "markdown",
   "metadata": {},
   "source": [
    "Будем считать карты в колоде по системе **половинки**:\n",
    "\n",
    "| card | points |\n",
    "|:-:   | :-:    |\n",
    "| 2 | +0.5 |\n",
    "| 3, 4 | +1 |\n",
    "| 5 | +1.5 |\n",
    "| 6 | +1 |\n",
    "| 7 | +0.5 |\n",
    "| 8 | 0 |\n",
    "| 9 | −0,5 |\n",
    "| 10, В, Д, К, Т | −1 |"
   ]
  },
  {
   "cell_type": "code",
   "execution_count": 14,
   "metadata": {},
   "outputs": [],
   "source": [
    "from gym.envs.toy_text.blackjack import (\n",
    "    cmp, is_bust, is_natural, score, sum_hand\n",
    ")\n",
    "\n",
    "\n",
    "deck = [1, 2, 3, 4, 5, 6, 7, 8, 9, 10, 10, 10, 10] * 4\n",
    "\n",
    "cost = defaultdict(float)\n",
    "\n",
    "cost.update({\n",
    "    2: +0.5,\n",
    "    3: +1,\n",
    "    4: +1,\n",
    "    5: +1.5,\n",
    "    6: +1,\n",
    "    7: +0.5,\n",
    "    9: -0.5,\n",
    "    10: -1,\n",
    "})\n",
    "\n",
    "class DoubleCountingBlackjackEnv(DoubleBlackjackEnv):\n",
    "    def __init__(self, *args, **kwargs):\n",
    "        self.counter = 0\n",
    "        self.deck = deck.copy()\n",
    "        \n",
    "        super(DoubleCountingBlackjackEnv, self).__init__(*args, **kwargs)\n",
    "        \n",
    "    def draw_card(self):\n",
    "        card = self.np_random.choice(self.deck)\n",
    "        self.deck.remove(card)\n",
    "        self.counter += cost[card]\n",
    "        return int(card)\n",
    "    \n",
    "    def draw_hand(self):\n",
    "        return [self.draw_card(), self.draw_card()]\n",
    "        \n",
    "    def _get_obs(self):\n",
    "        return (*super(DoubleCountingBlackjackEnv, self)._get_obs(), self.counter)\n",
    "    \n",
    "    def reset(self):\n",
    "        if len(self.deck) <= 15:\n",
    "            self.counter = 0\n",
    "            self.deck = deck.copy()\n",
    "        \n",
    "        # copy-paste from original implementation because draw_card and draw_hand are not class members\n",
    "        self.dealer = self.draw_hand()\n",
    "        self.player = self.draw_hand()\n",
    "        return self._get_obs()\n",
    "    \n",
    "    # copy-paste from original implementation because draw_card and draw_hand are not class members\n",
    "    def step(self, action):\n",
    "        assert self.action_space.contains(action)\n",
    "        if action:  # hit: add a card to players hand and return\n",
    "            self.player.append(self.draw_card())\n",
    "            if is_bust(self.player):\n",
    "                done = True\n",
    "                reward = -1.\n",
    "            else:\n",
    "                done = False\n",
    "                reward = 0.\n",
    "        else:  # stick: play out the dealers hand, and score\n",
    "            done = True\n",
    "            while sum_hand(self.dealer) < 17:\n",
    "                self.dealer.append(self.draw_card())\n",
    "            reward = cmp(score(self.player), score(self.dealer))\n",
    "            if self.natural and is_natural(self.player) and reward == 1.:\n",
    "                reward = 1.5\n",
    "        return self._get_obs(), reward, done, {}"
   ]
  },
  {
   "cell_type": "markdown",
   "metadata": {},
   "source": [
    "### Задание 7"
   ]
  },
  {
   "cell_type": "markdown",
   "metadata": {},
   "source": [
    "Реализуйте метод обучения с подкреплением без модели для этого варианта,\n",
    "постройте графики, аналогичные п.2."
   ]
  },
  {
   "cell_type": "code",
   "execution_count": 15,
   "metadata": {},
   "outputs": [
    {
     "name": "stdout",
     "output_type": "stream",
     "text": [
      "0/27\n",
      "1/27\n",
      "2/27\n",
      "3/27\n",
      "4/27\n",
      "5/27\n",
      "6/27\n",
      "7/27\n",
      "8/27\n",
      "9/27\n",
      "10/27\n",
      "11/27\n",
      "12/27\n",
      "13/27\n",
      "14/27\n",
      "15/27\n",
      "16/27\n",
      "17/27\n",
      "18/27\n",
      "19/27\n",
      "20/27\n",
      "21/27\n",
      "22/27\n",
      "23/27\n",
      "24/27\n",
      "25/27\n",
      "26/27\n",
      "-0.0276775 {'alpha': 1e-05, 'eps': 0.9, 'gamma': 0.95}\n",
      "Calculation status: 10.0 %.\n",
      "Calculation status: 20.0 %.\n",
      "Calculation status: 30.0 %.\n",
      "Calculation status: 40.0 %.\n",
      "Calculation status: 50.0 %.\n",
      "Calculation status: 60.0 %.\n",
      "Calculation status: 70.0 %.\n",
      "Calculation status: 80.0 %.\n",
      "Calculation status: 90.0 %.\n",
      "Calculation status: 100.0 %.\n"
     ]
    },
    {
     "data": {
      "image/png": "[encoded data removed]",
      "text/plain": [
       "<Figure size 432x288 with 1 Axes>"
      ]
     },
     "metadata": {
      "needs_background": "light"
     },
     "output_type": "display_data"
    }
   ],
   "source": [
    "process_task(DoubleCountingBlackjackEnv, QLearning, params, episodes=400000)"
   ]
  }
 ],
 "metadata": {
  "kernelspec": {
   "display_name": "Python 3",
   "language": "python",
   "name": "python3"
  },
  "language_info": {
   "codemirror_mode": {
    "name": "ipython",
    "version": 3
   },
   "file_extension": ".py",
   "mimetype": "text/x-python",
   "name": "python",
   "nbconvert_exporter": "python",
   "pygments_lexer": "ipython3",
   "version": "3.7.9"
  }
 },
 "nbformat": 4,
 "nbformat_minor": 4
}
